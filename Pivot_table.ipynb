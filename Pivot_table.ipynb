{
  "nbformat": 4,
  "nbformat_minor": 0,
  "metadata": {
    "colab": {
      "provenance": [],
      "authorship_tag": "ABX9TyNGxBy+SXrzrI8fNCSXh92j",
      "include_colab_link": true
    },
    "kernelspec": {
      "name": "python3",
      "display_name": "Python 3"
    },
    "language_info": {
      "name": "python"
    }
  },
  "cells": [
    {
      "cell_type": "markdown",
      "metadata": {
        "id": "view-in-github",
        "colab_type": "text"
      },
      "source": [
        "<a href=\"https://colab.research.google.com/github/islamicity24/PythonCity/blob/main/Pivot_table.ipynb\" target=\"_parent\"><img src=\"https://colab.research.google.com/assets/colab-badge.svg\" alt=\"Open In Colab\"/></a>"
      ]
    },
    {
      "cell_type": "code",
      "execution_count": 1,
      "metadata": {
        "colab": {
          "base_uri": "https://localhost:8080/"
        },
        "id": "OY2y529HGFW_",
        "outputId": "a63fddb1-e294-4efc-cc56-d7b24c0e7cba"
      },
      "outputs": [
        {
          "output_type": "stream",
          "name": "stdout",
          "text": [
            "Produk               A       B\n",
            "Tahun Bulan                   \n",
            "2020  Februari     NaN  1500.0\n",
            "      Januari   1000.0     NaN\n",
            "2021  Februari     NaN  2500.0\n",
            "      Januari   2000.0     NaN\n"
          ]
        }
      ],
      "source": [
        "import pandas as pd\n",
        "\n",
        "# Membuat dataframe dengan data penjualan\n",
        "data = {\n",
        "    'Tahun': [2020, 2020, 2021, 2021],\n",
        "    'Bulan': ['Januari', 'Februari', 'Januari', 'Februari'],\n",
        "    'Produk': ['A', 'B', 'A', 'B'],\n",
        "    'Penjualan': [1000, 1500, 2000, 2500]\n",
        "}\n",
        "\n",
        "df = pd.DataFrame(data)\n",
        "\n",
        "# Membuat Pivot Table\n",
        "pivot_table = df.pivot_table(index=['Tahun', 'Bulan'], columns='Produk', values='Penjualan', aggfunc='sum')\n",
        "\n",
        "print(pivot_table)\n"
      ]
    }
  ]
}